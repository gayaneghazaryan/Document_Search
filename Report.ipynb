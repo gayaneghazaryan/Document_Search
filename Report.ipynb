{
 "cells": [
  {
   "cell_type": "markdown",
   "metadata": {
    "collapsed": true,
    "pycharm": {
     "name": "#%%\n"
    }
   },
   "source": [
    "#  <center>Text Analysis using TF-IDF and Document Search</center>\n",
    "### <center>Group Members: Gayane Ghazaryan, Anna Manasyan</center>"
   ]
  },
  {
   "cell_type": "code",
   "execution_count": 3,
   "metadata": {},
   "outputs": [],
   "source": [
    "import pandas as pd\n",
    "import matplotlib.pyplot as plt\n",
    "%matplotlib inline\n",
    "from utils import extract_wiki_data, remove_stopwords, normalize_text, calculate_word_frequency_rank, plot_zipfs_law, search_documents\n",
    "from utils import calculate_tfidf\n",
    "import warnings\n",
    "warnings.filterwarnings('ignore')"
   ]
  },
  {
   "cell_type": "markdown",
   "metadata": {},
   "source": [
    "## Problem 1: Data Preparation"
   ]
  },
  {
   "cell_type": "markdown",
   "metadata": {},
   "source": [
    "#### Download the Wikipedia text data from Hugging Face, using the 20220301.simple dataset. Extract the first 20,000 articles from the data, store them in a pandas dataframe. "
   ]
  },
  {
   "cell_type": "code",
   "execution_count": 1,
   "metadata": {},
   "outputs": [],
   "source": [
    "#extract_wiki_data(\"20220301.simple\", 20000)"
   ]
  },
  {
   "cell_type": "code",
   "execution_count": 4,
   "metadata": {},
   "outputs": [
    {
     "data": {
      "text/html": [
       "<div>\n",
       "<style scoped>\n",
       "    .dataframe tbody tr th:only-of-type {\n",
       "        vertical-align: middle;\n",
       "    }\n",
       "\n",
       "    .dataframe tbody tr th {\n",
       "        vertical-align: top;\n",
       "    }\n",
       "\n",
       "    .dataframe thead th {\n",
       "        text-align: right;\n",
       "    }\n",
       "</style>\n",
       "<table border=\"1\" class=\"dataframe\">\n",
       "  <thead>\n",
       "    <tr style=\"text-align: right;\">\n",
       "      <th></th>\n",
       "      <th>id</th>\n",
       "      <th>url</th>\n",
       "      <th>title</th>\n",
       "      <th>text</th>\n",
       "    </tr>\n",
       "  </thead>\n",
       "  <tbody>\n",
       "    <tr>\n",
       "      <th>0</th>\n",
       "      <td>1</td>\n",
       "      <td>https://simple.wikipedia.org/wiki/April</td>\n",
       "      <td>April</td>\n",
       "      <td>April is the fourth month of the year in the J...</td>\n",
       "    </tr>\n",
       "    <tr>\n",
       "      <th>1</th>\n",
       "      <td>2</td>\n",
       "      <td>https://simple.wikipedia.org/wiki/August</td>\n",
       "      <td>August</td>\n",
       "      <td>August (Aug.) is the eighth month of the year ...</td>\n",
       "    </tr>\n",
       "    <tr>\n",
       "      <th>2</th>\n",
       "      <td>6</td>\n",
       "      <td>https://simple.wikipedia.org/wiki/Art</td>\n",
       "      <td>Art</td>\n",
       "      <td>Art is a creative activity that expresses imag...</td>\n",
       "    </tr>\n",
       "    <tr>\n",
       "      <th>3</th>\n",
       "      <td>8</td>\n",
       "      <td>https://simple.wikipedia.org/wiki/A</td>\n",
       "      <td>A</td>\n",
       "      <td>A or a is the first letter of the English alph...</td>\n",
       "    </tr>\n",
       "    <tr>\n",
       "      <th>4</th>\n",
       "      <td>9</td>\n",
       "      <td>https://simple.wikipedia.org/wiki/Air</td>\n",
       "      <td>Air</td>\n",
       "      <td>Air refers to the Earth's atmosphere. Air is a...</td>\n",
       "    </tr>\n",
       "  </tbody>\n",
       "</table>\n",
       "</div>"
      ],
      "text/plain": [
       "   id                                       url   title  \\\n",
       "0   1   https://simple.wikipedia.org/wiki/April   April   \n",
       "1   2  https://simple.wikipedia.org/wiki/August  August   \n",
       "2   6     https://simple.wikipedia.org/wiki/Art     Art   \n",
       "3   8       https://simple.wikipedia.org/wiki/A       A   \n",
       "4   9     https://simple.wikipedia.org/wiki/Air     Air   \n",
       "\n",
       "                                                text  \n",
       "0  April is the fourth month of the year in the J...  \n",
       "1  August (Aug.) is the eighth month of the year ...  \n",
       "2  Art is a creative activity that expresses imag...  \n",
       "3  A or a is the first letter of the English alph...  \n",
       "4  Air refers to the Earth's atmosphere. Air is a...  "
      ]
     },
     "execution_count": 4,
     "metadata": {},
     "output_type": "execute_result"
    }
   ],
   "source": [
    "wiki_data = pd.read_csv(\"wikipedia.csv\")\n",
    "wiki_data.head()"
   ]
  },
  {
   "cell_type": "markdown",
   "metadata": {},
   "source": [
    "#### Perform normalization on the text data: tokenization, lemmatization, lowercase transformation, punctuation and stop word removal. "
   ]
  },
  {
   "cell_type": "code",
   "execution_count": 5,
   "metadata": {},
   "outputs": [],
   "source": [
    "wiki_data_norm = normalize_text(wiki_data['text'])"
   ]
  },
  {
   "cell_type": "code",
   "execution_count": 6,
   "metadata": {},
   "outputs": [
    {
     "data": {
      "text/html": [
       "<div>\n",
       "<style scoped>\n",
       "    .dataframe tbody tr th:only-of-type {\n",
       "        vertical-align: middle;\n",
       "    }\n",
       "\n",
       "    .dataframe tbody tr th {\n",
       "        vertical-align: top;\n",
       "    }\n",
       "\n",
       "    .dataframe thead th {\n",
       "        text-align: right;\n",
       "    }\n",
       "</style>\n",
       "<table border=\"1\" class=\"dataframe\">\n",
       "  <thead>\n",
       "    <tr style=\"text-align: right;\">\n",
       "      <th></th>\n",
       "      <th>text</th>\n",
       "    </tr>\n",
       "  </thead>\n",
       "  <tbody>\n",
       "    <tr>\n",
       "      <th>0</th>\n",
       "      <td>[april, be, the, fourth, month, of, the, year,...</td>\n",
       "    </tr>\n",
       "    <tr>\n",
       "      <th>1</th>\n",
       "      <td>[august, aug, be, the, eighth, month, of, the,...</td>\n",
       "    </tr>\n",
       "    <tr>\n",
       "      <th>2</th>\n",
       "      <td>[art, be, a, creative, activity, that, express...</td>\n",
       "    </tr>\n",
       "    <tr>\n",
       "      <th>3</th>\n",
       "      <td>[a, or, a, be, the, first, letter, of, the, en...</td>\n",
       "    </tr>\n",
       "    <tr>\n",
       "      <th>4</th>\n",
       "      <td>[air, refers, to, the, earth, atmosphere, air,...</td>\n",
       "    </tr>\n",
       "  </tbody>\n",
       "</table>\n",
       "</div>"
      ],
      "text/plain": [
       "                                                text\n",
       "0  [april, be, the, fourth, month, of, the, year,...\n",
       "1  [august, aug, be, the, eighth, month, of, the,...\n",
       "2  [art, be, a, creative, activity, that, express...\n",
       "3  [a, or, a, be, the, first, letter, of, the, en...\n",
       "4  [air, refers, to, the, earth, atmosphere, air,..."
      ]
     },
     "execution_count": 6,
     "metadata": {},
     "output_type": "execute_result"
    }
   ],
   "source": [
    "wiki_norm = pd.DataFrame(wiki_data_norm)\n",
    "wiki_norm.head()"
   ]
  },
  {
   "cell_type": "markdown",
   "metadata": {},
   "source": [
    "*As applying normalization to the data took a long time, we decided to save the results.*"
   ]
  },
  {
   "cell_type": "code",
   "execution_count": 5,
   "metadata": {},
   "outputs": [],
   "source": [
    "# wiki_data_norm.to_csv(\"wikipedia_norm.csv\", encoding='utf-8', index=False)"
   ]
  },
  {
   "cell_type": "markdown",
   "metadata": {},
   "source": [
    "### Problem 2: Word Frequencies and Zipf's Law"
   ]
  },
  {
   "cell_type": "markdown",
   "metadata": {},
   "source": [
    "#### Calculating the frequency and rank of each word in the dataset."
   ]
  },
  {
   "cell_type": "code",
   "execution_count": 7,
   "metadata": {},
   "outputs": [
    {
     "data": {
      "text/html": [
       "<div>\n",
       "<style scoped>\n",
       "    .dataframe tbody tr th:only-of-type {\n",
       "        vertical-align: middle;\n",
       "    }\n",
       "\n",
       "    .dataframe tbody tr th {\n",
       "        vertical-align: top;\n",
       "    }\n",
       "\n",
       "    .dataframe thead th {\n",
       "        text-align: right;\n",
       "    }\n",
       "</style>\n",
       "<table border=\"1\" class=\"dataframe\">\n",
       "  <thead>\n",
       "    <tr style=\"text-align: right;\">\n",
       "      <th></th>\n",
       "      <th>word</th>\n",
       "      <th>frequency</th>\n",
       "      <th>rank</th>\n",
       "    </tr>\n",
       "  </thead>\n",
       "  <tbody>\n",
       "    <tr>\n",
       "      <th>0</th>\n",
       "      <td>the</td>\n",
       "      <td>455125</td>\n",
       "      <td>1</td>\n",
       "    </tr>\n",
       "    <tr>\n",
       "      <th>1</th>\n",
       "      <td>be</td>\n",
       "      <td>283413</td>\n",
       "      <td>2</td>\n",
       "    </tr>\n",
       "    <tr>\n",
       "      <th>2</th>\n",
       "      <td>of</td>\n",
       "      <td>243175</td>\n",
       "      <td>3</td>\n",
       "    </tr>\n",
       "    <tr>\n",
       "      <th>3</th>\n",
       "      <td>and</td>\n",
       "      <td>186604</td>\n",
       "      <td>4</td>\n",
       "    </tr>\n",
       "    <tr>\n",
       "      <th>4</th>\n",
       "      <td>in</td>\n",
       "      <td>176391</td>\n",
       "      <td>5</td>\n",
       "    </tr>\n",
       "  </tbody>\n",
       "</table>\n",
       "</div>"
      ],
      "text/plain": [
       "  word  frequency  rank\n",
       "0  the     455125     1\n",
       "1   be     283413     2\n",
       "2   of     243175     3\n",
       "3  and     186604     4\n",
       "4   in     176391     5"
      ]
     },
     "execution_count": 7,
     "metadata": {},
     "output_type": "execute_result"
    }
   ],
   "source": [
    "x = calculate_word_frequency_rank(wiki_norm['text'])\n",
    "x.head()"
   ]
  },
  {
   "cell_type": "markdown",
   "metadata": {},
   "source": [
    "#### Plotting the word frequencies against their rank in a log-log scale and fitting a line to the plot that represents Zipf's Law."
   ]
  },
  {
   "cell_type": "code",
   "execution_count": 8,
   "metadata": {},
   "outputs": [
    {
     "data": {
      "image/png": "[encoded data removed]",
      "text/plain": [
       "<Figure size 1000x600 with 1 Axes>"
      ]
     },
     "metadata": {},
     "output_type": "display_data"
    },
    {
     "data": {
      "text/plain": [
       "<Figure size 640x480 with 0 Axes>"
      ]
     },
     "metadata": {},
     "output_type": "display_data"
    }
   ],
   "source": [
    "plot_zipfs_law(x)"
   ]
  },
  {
   "cell_type": "markdown",
   "metadata": {},
   "source": [
    "Zipf's Law states that the frequency of words is inversely proportional to their rank and the most common word. So this means the second most frequent word is half as frequent as the most common, the third one is one-third as common as the most common, and so on. <br>\n",
    "Generally, a steeper slope (higher absolute value of alpha) indicates a stronger adherence to Zipf's Law, while a shallower slope (lower absolute value of alpha) indicates a weaker adherence to Zipf's Law. <br>\n",
    "In our case, our alpha is 0.88, which suggests that the distribution of word frequencies still follows a power-law pattern, but it's not as strong or steep as expected under Zipf's Law. The more frequent words will still dominate the overall distribution, however the differences in frequency between the most common words and those lower in rank will be less pronounced"
   ]
  },
  {
   "cell_type": "markdown",
   "metadata": {},
   "source": [
    "### Problem 3: TF-IDF and Document Representation"
   ]
  },
  {
   "cell_type": "markdown",
   "metadata": {},
   "source": [
    "Calculate the term frequency (TF) and inverse document frequency (IDF) for each word in the dataset. After calculating the TF-IDF for each document, normalize the document TF-IDF vector. Write a function for normalizing the TF-IDF vectors that can be used for both documents and queries. Store the normalized TF-IDF vectors for further use."
   ]
  },
  {
   "cell_type": "markdown",
   "metadata": {},
   "source": [
    "*We used TfidfTransformer() from sklearn, which automatically applies l2 normalization on the TF-IDF vector. The function has two modes: one for documents and one for queries*"
   ]
  },
  {
   "cell_type": "code",
   "execution_count": 9,
   "metadata": {},
   "outputs": [],
   "source": [
    "wiki_norm['text'] = wiki_norm['text'].apply(remove_stopwords)"
   ]
  },
  {
   "cell_type": "code",
   "execution_count": 10,
   "metadata": {},
   "outputs": [],
   "source": [
    "tfidf_matrix = calculate_tfidf(wiki_norm['text'])"
   ]
  },
  {
   "cell_type": "markdown",
   "metadata": {},
   "source": [
    "### Problem 4: Document Search"
   ]
  },
  {
   "cell_type": "markdown",
   "metadata": {},
   "source": [
    "Write a function that takes a query as input and performs normalization on the query as you did for the original data. Calculate the TF-IDF representation of the query and normalize it using the function created in Problem 3. "
   ]
  },
  {
   "cell_type": "markdown",
   "metadata": {},
   "source": [
    "*Added a query mode to the normalize_text() function.*"
   ]
  },
  {
   "cell_type": "markdown",
   "metadata": {},
   "source": [
    "* #### Query 1"
   ]
  },
  {
   "cell_type": "code",
   "execution_count": 11,
   "metadata": {},
   "outputs": [],
   "source": [
    "query = 'english and german language'"
   ]
  },
  {
   "cell_type": "markdown",
   "metadata": {},
   "source": [
    "#### Normalizing the query"
   ]
  },
  {
   "cell_type": "code",
   "execution_count": 12,
   "metadata": {},
   "outputs": [
    {
     "data": {
      "text/plain": [
       "['english', 'german', 'language']"
      ]
     },
     "execution_count": 12,
     "metadata": {},
     "output_type": "execute_result"
    }
   ],
   "source": [
    "query_norm = normalize_text(query, mode = 'query')\n",
    "query_norm = remove_stopwords(query_norm)\n",
    "query_norm"
   ]
  },
  {
   "cell_type": "markdown",
   "metadata": {},
   "source": [
    "#### Calculating TF-IDF"
   ]
  },
  {
   "cell_type": "code",
   "execution_count": 13,
   "metadata": {},
   "outputs": [],
   "source": [
    "query_tfidf_vector = calculate_tfidf(wiki_norm['text'], query_norm, mode='query')"
   ]
  },
  {
   "cell_type": "markdown",
   "metadata": {},
   "source": [
    "#### Document Search"
   ]
  },
  {
   "cell_type": "code",
   "execution_count": 14,
   "metadata": {},
   "outputs": [
    {
     "data": {
      "text/plain": [
       "546      [english, language, start, anglo-saxon, englan...\n",
       "216      [language, normal, way, human, communicate, hu...\n",
       "746      [german, german, deutsch, west, germanic, lang...\n",
       "531      [english, second, language, common, phrase, re...\n",
       "15182    [german, people, germany, descendant, child, g...\n",
       "6131     [language, isolate, language, know, relate, la...\n",
       "692      [language, family, group, language, relate, co...\n",
       "1154     [partial, list, natural, language, arrange, al...\n",
       "256      [first, language, also, mother, language, moth...\n",
       "741      [german, mean, different, thing, anything, rel...\n",
       "Name: text, dtype: object"
      ]
     },
     "execution_count": 14,
     "metadata": {},
     "output_type": "execute_result"
    }
   ],
   "source": [
    "top_k_indices, top_k_similarities, top_k_documents = search_documents(wiki_norm['text'], tfidf_matrix, query_tfidf_vector, k=10)\n",
    "top_k_documents"
   ]
  },
  {
   "cell_type": "code",
   "execution_count": 15,
   "metadata": {},
   "outputs": [
    {
     "data": {
      "text/plain": [
       "546                  English language\n",
       "216                          Language\n",
       "746                   German language\n",
       "531      English as a second language\n",
       "15182                         Germans\n",
       "6131                 Language isolate\n",
       "692                   Language family\n",
       "1154                List of languages\n",
       "256                    First language\n",
       "741                            German\n",
       "Name: title, dtype: object"
      ]
     },
     "execution_count": 15,
     "metadata": {},
     "output_type": "execute_result"
    }
   ],
   "source": [
    "wiki_data['title'][top_k_indices]"
   ]
  },
  {
   "cell_type": "markdown",
   "metadata": {},
   "source": [
    "* #### Query 2"
   ]
  },
  {
   "cell_type": "code",
   "execution_count": 16,
   "metadata": {},
   "outputs": [],
   "source": [
    "query1 = 'animal rights protection'"
   ]
  },
  {
   "cell_type": "markdown",
   "metadata": {},
   "source": [
    "#### Normalizing the query"
   ]
  },
  {
   "cell_type": "code",
   "execution_count": 17,
   "metadata": {},
   "outputs": [
    {
     "data": {
      "text/plain": [
       "['animal', 'right', 'protection']"
      ]
     },
     "execution_count": 17,
     "metadata": {},
     "output_type": "execute_result"
    }
   ],
   "source": [
    "query_norm1 = normalize_text(query1, mode = 'query')\n",
    "query_norm1"
   ]
  },
  {
   "cell_type": "markdown",
   "metadata": {},
   "source": [
    "#### Calculating TF-IDF"
   ]
  },
  {
   "cell_type": "code",
   "execution_count": 18,
   "metadata": {},
   "outputs": [],
   "source": [
    "query_tfidf_vector = calculate_tfidf(wiki_norm['text'], query_norm1, mode='query')"
   ]
  },
  {
   "cell_type": "markdown",
   "metadata": {},
   "source": [
    "#### Document Search"
   ]
  },
  {
   "cell_type": "code",
   "execution_count": 19,
   "metadata": {},
   "outputs": [
    {
     "data": {
      "text/plain": [
       "8189     [animal, right, term, use, general, belief, no...\n",
       "13925    [protection, mean, group, people, thing, try, ...\n",
       "17888    [animal, liberation, movement, animal, right, ...\n",
       "35       [animal, metazoa, live, creature, many, cell, ...\n",
       "12081    [civil, right, right, people, country, civil, ...\n",
       "4520     [universal, declaration, human, right, declara...\n",
       "4433     [human, right, right, freedom, people, today, ...\n",
       "13752    [amnesty, international, also, call, ai, amnes...\n",
       "1833     [insectivore, animal, insect, eat, mostly, ins...\n",
       "6919     [animal, farm, short, novel, george, orwell, w...\n",
       "Name: text, dtype: object"
      ]
     },
     "execution_count": 19,
     "metadata": {},
     "output_type": "execute_result"
    }
   ],
   "source": [
    "top_k_indices, top_k_similarities, top_k_documents = search_documents(wiki_norm['text'], tfidf_matrix, query_tfidf_vector, k=10)\n",
    "top_k_documents"
   ]
  },
  {
   "cell_type": "code",
   "execution_count": 20,
   "metadata": {},
   "outputs": [
    {
     "data": {
      "text/plain": [
       "8189                             Animal rights\n",
       "13925                               Protection\n",
       "17888               Animal liberation movement\n",
       "35                                      Animal\n",
       "12081                             Civil rights\n",
       "4520     Universal Declaration of Human Rights\n",
       "4433                              Human rights\n",
       "13752                    Amnesty International\n",
       "1833                               Insectivore\n",
       "6919                               Animal Farm\n",
       "Name: title, dtype: object"
      ]
     },
     "execution_count": 20,
     "metadata": {},
     "output_type": "execute_result"
    }
   ],
   "source": [
    "wiki_data['title'][top_k_indices]"
   ]
  },
  {
   "cell_type": "markdown",
   "metadata": {},
   "source": [
    "* #### Query 3"
   ]
  },
  {
   "cell_type": "code",
   "execution_count": 21,
   "metadata": {},
   "outputs": [],
   "source": [
    "query2 = 'William Shakespeare'"
   ]
  },
  {
   "cell_type": "markdown",
   "metadata": {},
   "source": [
    "#### Normalizing the query"
   ]
  },
  {
   "cell_type": "code",
   "execution_count": 22,
   "metadata": {},
   "outputs": [
    {
     "data": {
      "text/plain": [
       "['william', 'shakespeare']"
      ]
     },
     "execution_count": 22,
     "metadata": {},
     "output_type": "execute_result"
    }
   ],
   "source": [
    "query_norm2 = normalize_text(query2, mode = 'query')\n",
    "query_norm2"
   ]
  },
  {
   "cell_type": "markdown",
   "metadata": {},
   "source": [
    "#### Calculating TF-IDF"
   ]
  },
  {
   "cell_type": "code",
   "execution_count": 23,
   "metadata": {},
   "outputs": [],
   "source": [
    "query_tfidf_vector = calculate_tfidf(wiki_norm['text'], query_norm2, mode='query')"
   ]
  },
  {
   "cell_type": "markdown",
   "metadata": {},
   "source": [
    "#### Document Search"
   ]
  },
  {
   "cell_type": "code",
   "execution_count": 24,
   "metadata": {},
   "outputs": [
    {
     "data": {
      "text/plain": [
       "8182     [titus, andronicus, c, 15891592, first, traged...\n",
       "8183     [comedy, error, c, 158994, one, first, play, w...\n",
       "18204    [sir, john, shakespeare, ii, c, 1530-september...\n",
       "3945     [stratford-upon-avon, town, england, famous, b...\n",
       "6505     [event, start, golden, age, netherlands, begin...\n",
       "8181     [love, labour, lose, comedy, play, william, sh...\n",
       "16465    [list, 27, moon, uranus, list, long, take, orb...\n",
       "10526    [tragedy, julius, caesar, play, william, shake...\n",
       "1625     [william, conqueror, 1087, also, know, william...\n",
       "6577     [event, war, austria, venice, birth, may, 25, ...\n",
       "Name: text, dtype: object"
      ]
     },
     "execution_count": 24,
     "metadata": {},
     "output_type": "execute_result"
    }
   ],
   "source": [
    "top_k_indices, top_k_similarities, top_k_documents = search_documents(wiki_norm['text'], tfidf_matrix, query_tfidf_vector, k=10)\n",
    "top_k_documents"
   ]
  },
  {
   "cell_type": "code",
   "execution_count": 25,
   "metadata": {},
   "outputs": [
    {
     "data": {
      "text/plain": [
       "8182          Titus Andronicus\n",
       "8183      The Comedy of Errors\n",
       "18204         John Shakespeare\n",
       "3945       Stratford-upon-Avon\n",
       "6505                     1610s\n",
       "8181      Love's Labour's Lost\n",
       "16465    List of Uranus' moons\n",
       "10526     Julius Caesar (play)\n",
       "1625     William the Conqueror\n",
       "6577                      1616\n",
       "Name: title, dtype: object"
      ]
     },
     "execution_count": 25,
     "metadata": {},
     "output_type": "execute_result"
    }
   ],
   "source": [
    "wiki_data['title'][top_k_indices]"
   ]
  },
  {
   "cell_type": "markdown",
   "metadata": {},
   "source": [
    "### Problem 5: Evaluation and Reporting\n",
    "Evaluate the performance of your search function using example queries and discuss the results."
   ]
  },
  {
   "cell_type": "markdown",
   "metadata": {},
   "source": [
    "*Looking at the three query examples provided above, we come to the conclusion that the search algrorithm works adequately.* <br>\n",
    "\n",
    "*The first query was a relatively simple one. Looking at the results we can see that there's a logical connection between the articles and the query. The results are mainly comprised of articles on the English and German languages, however, there are some articles about language in general as well.* <br>\n",
    "\n",
    "*For the second query, we think the algorithm didn't work as  great. Only 2 of the articles were directly related to animal rights protection. 4 articles were returned on the topic of Human Rights Protection.* <br>\n",
    "\n",
    "*The third query was a very specific one and while the searching algorithm didn't manage to find the author himself (perhaps that article wasn't part of the data) it managed to return some of the authors works. However, there was noise too, i.e. people who had the same name.* <br>\n",
    "\n",
    "*Overall, we think that this is a good start and the performance of the search algorithm can be imporoved by increasing our dataset.*\n"
   ]
  }
 ],
 "metadata": {
  "kernelspec": {
   "display_name": "Python 3 (ipykernel)",
   "language": "python",
   "name": "python3"
  },
  "language_info": {
   "codemirror_mode": {
    "name": "ipython",
    "version": 3
   },
   "file_extension": ".py",
   "mimetype": "text/x-python",
   "name": "python",
   "nbconvert_exporter": "python",
   "pygments_lexer": "ipython3",
   "version": "3.10.12"
  }
 },
 "nbformat": 4,
 "nbformat_minor": 1
}
